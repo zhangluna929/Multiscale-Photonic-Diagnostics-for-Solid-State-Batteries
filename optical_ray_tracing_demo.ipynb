{
 "cells": [
  {
   "cell_type": "code",
   "execution_count": 1,
   "id": "a7617cb1-d703-4b61-9115-533064a38c87",
   "metadata": {},
   "outputs": [
    {
     "data": {
      "text/plain": [
       "'\\n该 Notebook 用于演示多镜组下光线路径与光斑分布对材料界面的影响。\\nThis notebook demonstrates interactive ray tracing and spot pattern analysis for multi-mirror optical systems, targeting materials and battery interface research.\\n'"
      ]
     },
     "execution_count": 1,
     "metadata": {},
     "output_type": "execute_result"
    }
   ],
   "source": [
    "# Optical Ray Tracing & Spot Distribution Demo for Materials/Energy Research\n",
    "# 光学追迹与光斑分布交互式模拟演示（面向材料/电池应用）\n",
    "# ----------------------------------------------\n",
    "# Author: lunazhang\n",
    "\n",
    "import numpy as np\n",
    "import matplotlib.pyplot as plt\n",
    "from matplotlib.patches import Circle\n",
    "from ipywidgets import interact, IntSlider, FloatSlider, Layout\n",
    "import warnings\n",
    "\n",
    "warnings.filterwarnings('ignore')\n",
    "\n",
    "\"\"\"\n",
    "该 Notebook 用于演示多镜组下光线路径与光斑分布对材料界面的影响。\n",
    "This notebook demonstrates interactive ray tracing and spot pattern analysis for multi-mirror optical systems, targeting materials and battery interface research.\n",
    "\"\"\"\n"
   ]
  },
  {
   "cell_type": "code",
   "execution_count": 2,
   "id": "74879120-6b8e-4822-a024-ad08fdd8cad6",
   "metadata": {},
   "outputs": [],
   "source": [
    "# =================== 材料参数与镜组参数、光线追迹主函数 ===================\n",
    "\n",
    "# ------ 材料参数接口（可扩展）/ Material property interface (extendable) ------\n",
    "MATERIAL_DEFAULTS = {\n",
    "    \"refractive_index\": 1.5,   # 折射率 Refractive index (n)\n",
    "    \"absorption\": 0.05,        # 吸收率 Absorption coefficient (arbitrary unit)\n",
    "    # 可拓展更多属性 e.g. 电导率、厚度等\n",
    "}\n",
    "\n",
    "# ------ 光源参数 / Light source params ------\n",
    "SOURCE_POS = np.array([0, 0])         # 光源坐标 (x0, y0)\n",
    "N_RAYS = 200                          # 光线数量 Number of rays\n",
    "THETA_SPREAD = np.deg2rad(10)         # 初始发散角 spread (radians)\n",
    "SOURCE_RADIUS = 0.2                   # 光源近似直径\n",
    "\n",
    "# ------ 镜子/透镜组结构 Mirror/Lens group definition ------\n",
    "def default_mirrors(num_mirrors):\n",
    "    \"\"\"\n",
    "    生成默认镜组参数：等间隔摆放、均匀角度\n",
    "    Generate default mirror params: evenly spaced, equal angle\n",
    "    \"\"\"\n",
    "    mirror_list = []\n",
    "    RADIUS = 3.0\n",
    "    for i in range(num_mirrors):\n",
    "        angle = np.pi / 6 + (i / max(1,num_mirrors-1)) * np.pi / 2  # 30°起，等间距\n",
    "        pos = np.array([RADIUS * np.cos(angle), RADIUS * np.sin(angle)])\n",
    "        normal_angle = angle - np.pi / 2  # 法线方向\n",
    "        mirror_list.append({\"pos\": pos, \"angle\": normal_angle})\n",
    "    return mirror_list\n",
    "\n",
    "# =================== 光线追迹主函数 / Ray tracing ===================\n",
    "\n",
    "def reflect_ray(ray_origin, ray_dir, mirror_pos, mirror_angle):\n",
    "    \"\"\"\n",
    "    计算光线与镜子反射后的新方向\n",
    "    Compute reflected ray direction after hitting mirror\n",
    "    \"\"\"\n",
    "    n = np.array([np.cos(mirror_angle), np.sin(mirror_angle)])\n",
    "    incident = ray_dir / np.linalg.norm(ray_dir)\n",
    "    reflect = incident - 2 * np.dot(incident, n) * n\n",
    "    return reflect\n",
    "\n",
    "def trace_rays(mirrors, source_pos, n_rays, theta_spread, max_bounces=1):\n",
    "    \"\"\"\n",
    "    跟踪每条光线在多镜组下的传播与反射轨迹\n",
    "    Trace rays through multi-mirror system (single bounce)\n",
    "    \"\"\"\n",
    "    rays = []\n",
    "    theta_0 = np.pi/2   # 默认垂直发射\n",
    "    for i in range(n_rays):\n",
    "        theta = theta_0 + np.random.uniform(-theta_spread/2, theta_spread/2)\n",
    "        ray_pos = source_pos.copy()\n",
    "        ray_dir = np.array([np.cos(theta), np.sin(theta)])\n",
    "        points = [ray_pos.copy()]\n",
    "        for mirror in mirrors:\n",
    "            m_pos, m_angle = mirror[\"pos\"], mirror[\"angle\"]\n",
    "            to_mirror = m_pos - ray_pos\n",
    "            distance = np.dot(to_mirror, ray_dir)\n",
    "            impact = ray_pos + ray_dir * distance\n",
    "            points.append(impact)\n",
    "            ray_dir = reflect_ray(ray_pos, ray_dir, m_pos, m_angle)\n",
    "            ray_pos = impact\n",
    "        SCREEN_Y = 5.0\n",
    "        if ray_dir[1] != 0:\n",
    "            t = (SCREEN_Y - ray_pos[1]) / ray_dir[1]\n",
    "            end = ray_pos + ray_dir * t\n",
    "        else:\n",
    "            end = ray_pos + ray_dir * 10\n",
    "        points.append(end)\n",
    "        rays.append(points)\n",
    "    return rays\n"
   ]
  },
  {
   "cell_type": "code",
   "execution_count": 3,
   "id": "2eccdf75-ca95-402c-bbd0-fb770cebbb0f",
   "metadata": {},
   "outputs": [],
   "source": [
    "# =================== 光斑分布与发散角计算 / Spot distribution & divergence ===================\n",
    "\n",
    "def get_spot_on_screen(rays, screen_y=5.0):\n",
    "    \"\"\"\n",
    "    统计所有光线在屏幕上的命中点\n",
    "    Collect hit points of all rays at the sample/screen (y=screen_y)\n",
    "    \"\"\"\n",
    "    hits = []\n",
    "    for ray in rays:\n",
    "        pt1, pt2 = ray[-2], ray[-1]\n",
    "        if pt2[1] == pt1[1]:\n",
    "            continue\n",
    "        t = (screen_y - pt1[1]) / (pt2[1] - pt1[1])\n",
    "        x_hit = pt1[0] + t * (pt2[0] - pt1[0])\n",
    "        hits.append([x_hit, screen_y])\n",
    "    return np.array(hits)\n",
    "\n",
    "def plot_spot_heatmap(hits, bins=60, show=True):\n",
    "    \"\"\"\n",
    "    绘制光斑分布热力图\n",
    "    \"\"\"\n",
    "    if hits.shape[0] < 2:\n",
    "        print(\"无足够命中点！Not enough hit points!\")\n",
    "        return\n",
    "    plt.figure(figsize=(5,3.5))\n",
    "    plt.hist(hits[:,0], bins=bins, alpha=0.7, color='royalblue', label=\"X spots\")\n",
    "    plt.xlabel(\"Screen X Position / 屏幕X坐标\")\n",
    "    plt.ylabel(\"Intensity / 光斑强度\")\n",
    "    plt.title(\"Spot Intensity Distribution on Screen / 屏幕光斑强度分布\")\n",
    "    plt.tight_layout()\n",
    "    if show:\n",
    "        plt.show()\n",
    "\n",
    "def calc_divergence(hits):\n",
    "    \"\"\"\n",
    "    计算光束发散角（近似为光斑宽度/距离）\n",
    "    Compute beam divergence (FWHM of spot, approx.)\n",
    "    \"\"\"\n",
    "    if hits.shape[0]<2:\n",
    "        return 0\n",
    "    x_sorted = np.sort(hits[:,0])\n",
    "    low, high = np.percentile(x_sorted, [5,95])\n",
    "    divergence = np.arctan((high-low)/5.0) # 5.0为屏幕y坐标\n",
    "    return np.degrees(divergence)\n"
   ]
  },
  {
   "cell_type": "code",
   "execution_count": 4,
   "id": "f72637a8-2f63-4e14-99bb-99aab6bfeabb",
   "metadata": {},
   "outputs": [
    {
     "name": "stdout",
     "output_type": "stream",
     "text": [
      "👇请选择镜子数量、光源发散角度、材料参数等，自动展示光斑分布和发散角。\n"
     ]
    },
    {
     "data": {
      "application/vnd.jupyter.widget-view+json": {
       "model_id": "711b70e137d74597a7ba7471789b1749",
       "version_major": 2,
       "version_minor": 0
      },
      "text/plain": [
       "interactive(children=(IntSlider(value=2, description='镜子数量/Num Mirrors', max=6, min=1), FloatSlider(value=10.0…"
      ]
     },
     "metadata": {},
     "output_type": "display_data"
    },
    {
     "data": {
      "text/plain": [
       "<function __main__.draw_system_and_spots(num_mirrors=2, theta_spread_deg=10, refractive_index=1.5, absorption=0.05)>"
      ]
     },
     "execution_count": 4,
     "metadata": {},
     "output_type": "execute_result"
    }
   ],
   "source": [
    "# =================== 主绘图与交互控件 / Main visualization & interactivity ===================\n",
    "\n",
    "def draw_system_and_spots(num_mirrors=2, theta_spread_deg=10, refractive_index=1.5, absorption=0.05):\n",
    "    \"\"\"\n",
    "    绘制整个系统：镜组、光线路径、屏幕光斑分布\n",
    "    Draw whole system: mirrors, rays, spot distribution\n",
    "    \"\"\"\n",
    "    mirrors = default_mirrors(num_mirrors)\n",
    "    rays = trace_rays(mirrors, SOURCE_POS, N_RAYS, np.deg2rad(theta_spread_deg))\n",
    "    hits = get_spot_on_screen(rays)\n",
    "\n",
    "    plt.figure(figsize=(7,5))\n",
    "    for m in mirrors:\n",
    "        pos, angle = m[\"pos\"], m[\"angle\"]\n",
    "        dx, dy = 0.3*np.cos(angle+np.pi/2), 0.3*np.sin(angle+np.pi/2)\n",
    "        plt.plot([pos[0]-dx, pos[0]+dx], [pos[1]-dy, pos[1]+dy], 'k-', lw=4)\n",
    "    for pts in rays:\n",
    "        pts = np.array(pts)\n",
    "        plt.plot(pts[:,0], pts[:,1], color='orange', alpha=0.15)\n",
    "    plt.gca().add_patch(Circle(SOURCE_POS, SOURCE_RADIUS, color='yellow', alpha=0.4, label=\"Source\"))\n",
    "    plt.axhline(y=5.0, color='blue', linestyle='--', label=\"Screen\")\n",
    "    plt.xlim(-4, 4)\n",
    "    plt.ylim(-1, 6)\n",
    "    plt.xlabel(\"X / mm\")\n",
    "    plt.ylabel(\"Y / mm\")\n",
    "    plt.title(\"Multi-mirror Optical Ray Tracing System 多镜组光学追迹系统\")\n",
    "    plt.legend()\n",
    "    plt.tight_layout()\n",
    "    plt.show()\n",
    "\n",
    "    plot_spot_heatmap(hits, show=True)\n",
    "    div_angle = calc_divergence(hits)\n",
    "    print(f\"光束发散角 (近似): {div_angle:.2f}°  (Beam divergence, approx.)\")\n",
    "    print(f\"光斑宽度（屏幕上90%覆盖范围）：{np.ptp(hits[:,0]):.2f} mm\")\n",
    "\n",
    "print(\"👇请选择镜子数量、光源发散角度、材料参数等，自动展示光斑分布和发散角。\")\n",
    "interact(draw_system_and_spots,\n",
    "         num_mirrors=IntSlider(min=1, max=6, step=1, value=2, description=\"镜子数量/Num Mirrors\"),\n",
    "         theta_spread_deg=FloatSlider(min=2, max=30, step=1, value=10, description=\"光源发散角 (°)\"),\n",
    "         refractive_index=FloatSlider(min=1.0, max=2.5, step=0.05, value=1.5, description=\"折射率n\"),\n",
    "         absorption=FloatSlider(min=0, max=0.3, step=0.01, value=0.05, description=\"吸收率Abs.\"),\n",
    "        )\n"
   ]
  },
  {
   "cell_type": "code",
   "execution_count": 6,
   "id": "337b02f0-e53f-4771-bcda-323dc1881bfb",
   "metadata": {},
   "outputs": [
    {
     "data": {
      "text/plain": [
       "'\\n【接口说明 Interface Doc】\\n- 镜组参数、材料参数均为可扩展输入：可改写default_mirrors等函数，实现自定义镜组结构/材料分布。\\n- 预留折射率、吸收率等参数，进一步对接多层膜/异质结/纳米结构的物理模型。\\n- 可通过上传CSV/Excel或手动输入实现材料参数批量加载。\\n- 可拓展与COMSOL/FDTD等仿真结果联动。\\n'"
      ]
     },
     "execution_count": 6,
     "metadata": {},
     "output_type": "execute_result"
    }
   ],
   "source": [
    "# =================== 预留材料/界面参数接口说明 ===================\n",
    "\"\"\"\n",
    "【接口说明 Interface Doc】\n",
    "- 镜组参数、材料参数均为可扩展输入：可改写default_mirrors等函数，实现自定义镜组结构/材料分布。\n",
    "- 预留折射率、吸收率等参数，进一步对接多层膜/异质结/纳米结构的物理模型。\n",
    "- 可通过上传CSV/Excel或手动输入实现材料参数批量加载。\n",
    "- 可拓展与COMSOL/FDTD等仿真结果联动。\n",
    "\"\"\"\n"
   ]
  }
 ],
 "metadata": {
  "kernelspec": {
   "display_name": "Python 3 (ipykernel)",
   "language": "python",
   "name": "python3"
  },
  "language_info": {
   "codemirror_mode": {
    "name": "ipython",
    "version": 3
   },
   "file_extension": ".py",
   "mimetype": "text/x-python",
   "name": "python",
   "nbconvert_exporter": "python",
   "pygments_lexer": "ipython3",
   "version": "3.9.13"
  }
 },
 "nbformat": 4,
 "nbformat_minor": 5
}
